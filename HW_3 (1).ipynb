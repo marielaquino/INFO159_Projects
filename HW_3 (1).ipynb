{
  "nbformat": 4,
  "nbformat_minor": 0,
  "metadata": {
    "colab": {
      "name": "HW_3.ipynb",
      "provenance": [],
      "collapsed_sections": []
    },
    "kernelspec": {
      "name": "python3",
      "display_name": "Python 3"
    }
  },
  "cells": [
    {
      "cell_type": "markdown",
      "metadata": {
        "id": "2y5cwPLm6Lyw",
        "colab_type": "text"
      },
      "source": [
        "# Homework 3: Word Embeddings\n",
        "In this homework, we will try to approximate a Skip-gram word embedding via positive pointwise mutual information (PPMI) and truncated singular value decomposition (SVD). "
      ]
    },
    {
      "cell_type": "markdown",
      "metadata": {
        "id": "EMnCOKC26Gzj",
        "colab_type": "text"
      },
      "source": [
        "## The setup\n",
        "Let's import the required libraries and load the data for preparing our word vectors. We are going to load a list of movie plot summaries (http://www.cs.cmu.edu/~ark/personas/) and use that as our corpus. You do not need to modify them."
      ]
    },
    {
      "cell_type": "code",
      "metadata": {
        "id": "nRKoyqtb0QL_",
        "colab_type": "code",
        "colab": {}
      },
      "source": [
        "# This code gets the data file from github and imports them into Colab\n",
        "%%capture\n",
        "!wget https://raw.githubusercontent.com/dbamman/nlp20/master/HW_3/plot_summaries_tokenized.csv"
      ],
      "execution_count": 0,
      "outputs": []
    },
    {
      "cell_type": "code",
      "metadata": {
        "id": "_yWaVJn30NBk",
        "colab_type": "code",
        "outputId": "478b3c95-d79f-4cd4-bd6c-daaa9d82ed6f",
        "colab": {
          "base_uri": "https://localhost:8080/",
          "height": 70
        }
      },
      "source": [
        "import numpy as np\n",
        "import pandas as pd\n",
        "from string import punctuation\n",
        "from collections import Counter, defaultdict\n",
        "from math import log2\n",
        "from scipy.sparse import csc_matrix\n",
        "from scipy.sparse.linalg import svds\n",
        "\n",
        "def load_data():\n",
        "    \"\"\"\n",
        "    Loads the data and returns tokenized summaries.\n",
        "    \n",
        "    :return summaries_tokenized: a list that contains tokenized summaries text\n",
        "    \"\"\"\n",
        "    df = pd.read_csv(\"plot_summaries_tokenized.csv\")\n",
        "    summaries_tokenized = list(df['SUMMARY'].apply(lambda text: text.split()))\n",
        "    return summaries_tokenized\n",
        "\n",
        "summaries = load_data()\n",
        "num_summaries = len(summaries)\n",
        "print(\"There are {} summaries.\".format(num_summaries))\n",
        "print(\"Example tokenized summary:\", summaries[0])"
      ],
      "execution_count": 0,
      "outputs": [
        {
          "output_type": "stream",
          "text": [
            "There are 42303 summaries.\n",
            "Example tokenized summary: ['Shlykov', 'a', 'hardworking', 'taxi', 'driver', 'and', 'Lyosha', 'a', 'saxophonist', 'develop', 'a', 'bizarre', 'lovehate', 'relationship', 'and', 'despite', 'their', 'prejudices', 'realize', 'they', 'arent', 'so', 'different', 'after', 'all']\n"
          ],
          "name": "stdout"
        }
      ]
    },
    {
      "cell_type": "markdown",
      "metadata": {
        "id": "Ikv9DyqR7xoG",
        "colab_type": "text"
      },
      "source": [
        "We have ~42000 summaries containing ~13000000 words. We will now proceed by creating a vocabulary and will limit its size to something computationally feasible. You may find python's collections.Counter function useful. You may not import any additional libraries."
      ]
    },
    {
      "cell_type": "markdown",
      "metadata": {
        "id": "jWP4hmGG7--v",
        "colab_type": "text"
      },
      "source": [
        "# 1. Create Vocabulary\n",
        "We will start from creating our vocabulary. Vocabulary contains unigrams and their counts."
      ]
    },
    {
      "cell_type": "code",
      "metadata": {
        "id": "Ksw96WHvEoJx",
        "colab_type": "code",
        "colab": {}
      },
      "source": [
        "###################\n",
        "# Do not modify\n",
        "###################\n",
        "min_count = (1 / 100) * len(summaries)\n",
        "max_count = (1 / 10) * len(summaries)"
      ],
      "execution_count": 0,
      "outputs": []
    },
    {
      "cell_type": "code",
      "metadata": {
        "id": "a-cK_jlZspok",
        "colab_type": "code",
        "outputId": "5c0292c6-ce2f-412f-b7f1-4ca6e989995c",
        "colab": {
          "base_uri": "https://localhost:8080/",
          "height": 54
        }
      },
      "source": [
        "summaries = load_data()\n",
        "vocab = Counter(summaries[1])\n",
        "{x : vocab[x] for x in vocab if vocab[x] >= 1}\n",
        "{x : vocab[x] for x in vocab if vocab[x] <= 5}\n",
        "word2idx, idx2word = {}, {}\n",
        "##################################\n",
        "new_list = list(vocab.keys())\n",
        "for i in range(len(new_list)):\n",
        "    word2idx[new_list[i]] = i\n",
        "    idx2word[i] = new_list[i]\n",
        "\n",
        "print(word2idx)"
      ],
      "execution_count": 0,
      "outputs": [
        {
          "output_type": "stream",
          "text": [
            "{'The': 0, 'nation': 1, 'of': 2, 'Panem': 3, 'consists': 4, 'a': 5, 'wealthy': 6, 'Capitol': 7, 'and': 8, 'twelve': 9, 'poorer': 10, 'districts': 11, 'As': 12, 'punishment': 13, 'for': 14, 'past': 15, 'rebellion': 16, 'each': 17, 'district': 18, 'must': 19, 'provide': 20, 'boy': 21, 'girl': 22, 'between': 23, 'the': 24, 'ages': 25, '12': 26, '18': 27, 'selected': 28, 'by': 29, 'lottery': 30, 'annual': 31, 'Hunger': 32, 'Games': 33, 'tributes': 34, 'fight': 35, 'to': 36, 'death': 37, 'in': 38, 'an': 39, 'arena': 40, 'sole': 41, 'survivor': 42, 'is': 43, 'rewarded': 44, 'with': 45, 'fame': 46, 'wealth': 47, 'In': 48, 'her': 49, 'first': 50, 'Reaping': 51, '12yearold': 52, 'Primrose': 53, 'Everdeen': 54, 'chosen': 55, 'from': 56, 'District': 57, 'Her': 58, 'older': 59, 'sister': 60, 'Katniss': 61, 'volunteers': 62, 'take': 63, 'place': 64, 'Peeta': 65, 'Mellark': 66, 'bakers': 67, 'son': 68, 'who': 69, 'once': 70, 'gave': 71, 'bread': 72, 'when': 73, 'she': 74, 'was': 75, 'starving': 76, 'other': 77, 'tribute': 78, 'are': 79, 'taken': 80, 'accompanied': 81, 'their': 82, 'frequently': 83, 'drunk': 84, 'mentor': 85, 'victor': 86, 'Haymitch': 87, 'Abernathy': 88, 'He': 89, 'warns': 90, 'them': 91, 'about': 92, 'Career': 93, 'train': 94, 'intensively': 95, 'at': 96, 'special': 97, 'academies': 98, 'almost': 99, 'always': 100, 'win': 101, 'During': 102, 'TV': 103, 'interview': 104, 'Caesar': 105, 'Flickerman': 106, 'unexpectedly': 107, 'reveals': 108, 'his': 109, 'love': 110, 'She': 111, 'outraged': 112, 'believing': 113, 'it': 114, 'be': 115, 'ploy': 116, 'gain': 117, 'audience': 118, 'support': 119, 'as': 120, 'sponsors': 121, 'may': 122, 'inGames': 123, 'gifts': 124, 'food': 125, 'medicine': 126, 'tools': 127, 'However': 128, 'discovers': 129, 'meant': 130, 'what': 131, 'he': 132, 'said': 133, 'televised': 134, 'begin': 135, 'half': 136, 'killed': 137, 'few': 138, 'minutes': 139, 'barely': 140, 'survives': 141, 'ignoring': 142, 'Haymitchs': 143, 'advice': 144, 'run': 145, 'away': 146, 'melee': 147, 'over': 148, 'tempting': 149, 'supplies': 150, 'weapons': 151, 'strewn': 152, 'front': 153, 'structure': 154, 'called': 155, 'Cornucopia': 156, 'forms': 157, 'uneasy': 158, 'alliance': 159, 'four': 160, 'Careers': 161, 'They': 162, 'later': 163, 'find': 164, 'corner': 165, 'up': 166, 'tree': 167, 'Rue': 168, 'hiding': 169, 'nearby': 170, 'draws': 171, 'attention': 172, 'poisonous': 173, 'tracker': 174, 'jacker': 175, 'nest': 176, 'hanging': 177, 'branch': 178, 'drops': 179, 'on': 180, 'sleeping': 181, 'besiegers': 182, 'all': 183, 'scatter': 184, 'except': 185, 'Glimmer': 186, 'insects': 187, 'Hallucinating': 188, 'due': 189, 'venom': 190, 'warned': 191, 'cares': 192, 'couple': 193, 'days': 194, 'until': 195, 'recovers': 196, 'Meanwhile': 197, 'has': 198, 'gathered': 199, 'into': 200, 'pile': 201, 'draw': 202, 'off': 203, 'then': 204, 'destroys': 205, 'stockpile': 206, 'setting': 207, 'mines': 208, 'planted': 209, 'around': 210, 'Furious': 211, 'Cato': 212, 'kills': 213, 'assigned': 214, 'guard': 215, 'runs': 216, 'scene': 217, 'hears': 218, 'calling': 219, 'name': 220, 'finds': 221, 'trapped': 222, 'releases': 223, 'Marvel': 224, '1': 225, 'throws': 226, 'spear': 227, 'but': 228, 'dodges': 229, 'causing': 230, 'stab': 231, 'stomach': 232, 'instead': 233, 'shoots': 234, 'him': 235, 'dead': 236, 'arrow': 237, 'comforts': 238, 'dying': 239, 'song': 240, 'Afterward': 241, 'gathers': 242, 'arranges': 243, 'flowers': 244, 'Rues': 245, 'body': 246, 'When': 247, 'this': 248, 'sparks': 249, 'riot': 250, '11': 251, 'President': 252, 'Snow': 253, 'summons': 254, 'Seneca': 255, 'Crane': 256, 'Gamemaker': 257, 'express': 258, 'displeasure': 259, 'way': 260, 'turning': 261, 'out': 262, 'Since': 263, 'have': 264, 'been': 265, 'presented': 266, 'public': 267, 'starcrossed': 268, 'lovers': 269, 'able': 270, 'convince': 271, 'make': 272, 'rule': 273, 'change': 274, 'avoid': 275, 'inciting': 276, 'further': 277, 'riots': 278, 'It': 279, 'announced': 280, 'that': 281, 'same': 282, 'can': 283, 'pair': 284, 'Upon': 285, 'hearing': 286, 'searches': 287, 'infected': 288, 'sword': 289, 'wound': 290, 'leg': 291, 'portrays': 292, 'herself': 293, 'deeply': 294, 'gains': 295, 'gift': 296, 'soup': 297, 'An': 298, 'announcer': 299, 'proclaims': 300, 'feast': 301, 'where': 302, 'thing': 303, 'needs': 304, 'most': 305, 'will': 306, 'provided': 307, 'begs': 308, 'not': 309, 'risk': 310, 'getting': 311, 'promises': 312, 'go': 313, 'after': 314, 'falls': 315, 'asleep': 316, 'heads': 317, 'Clove': 318, 'ambushes': 319, 'pins': 320, 'down': 321, 'gloats': 322, 'Thresh': 323, 'overhearing': 324, 'tormenting': 325, 'killing': 326, 'spares': 327, 'just': 328, 'timefor': 329, 'works': 330, 'keeping': 331, 'mobile': 332, 'Foxface': 333, '5': 334, 'dies': 335, 'eating': 336, 'nightlock': 337, 'berries': 338, 'stole': 339, 'neither': 340, 'knew': 341, 'they': 342, 'highly': 343, 'changes': 344, 'time': 345, 'day': 346, 'late': 347, 'night': 348, 'unleashes': 349, 'pack': 350, 'houndlike': 351, 'creatures': 352, 'speed': 353, 'things': 354, 'kill': 355, 'force': 356, 'flee': 357, 'roof': 358, 'encounter': 359, 'After': 360, 'battle': 361, 'wounds': 362, 'hurls': 363, 'below': 364, 'spare': 365, 'prolonged': 366, 'With': 367, 'apparently': 368, 'victorious': 369, 'allowing': 370, 'two': 371, 'winners': 372, 'suddenly': 373, 'revoked': 374, 'tells': 375, 'shoot': 376, 'Instead': 377, 'gives': 378, 'before': 379, 'commit': 380, 'suicide': 381, 'hastily': 382, 'proclaimed': 383, 'victors': 384, '74th': 385, 'made': 386, 'powerful': 387, 'enemies': 388, 'display': 389, 'defiance': 390, 'return': 391, 'while': 392, 'locked': 393, 'room': 394, 'bowl': 395, 'considers': 396, 'situation': 397}\n"
          ],
          "name": "stdout"
        }
      ]
    },
    {
      "cell_type": "code",
      "metadata": {
        "id": "Sum1rnZN54-V",
        "colab_type": "code",
        "colab": {}
      },
      "source": [
        "def creat_vocabulary(tokenized_documents, min_count, max_count):\n",
        "    \"\"\"\n",
        "    This function takes in tokenized documents and returns a\n",
        "    vocabulary and word <-> index lookup dictionary of some frequently appearing words.\n",
        "    \n",
        "    :param tokenized_documents: a list of tokenized strings\n",
        "    :param min_count: minimum unigram count\n",
        "    :param max_count: maximum unigram count\n",
        "    :return vocab: a Counter where vocab[word] = count of word's occurences in all the documents\n",
        "    :return word2idx: a word -> index lookup Dictionary for words in vocab.\n",
        "    :return idx2word: a index -> word lookup Dictionary for words in vocab.\n",
        "    \"\"\"\n",
        "    # 1a. Compute unigram counts. A unigram is a single word, e.g. foo\n",
        "    vocab = Counter()\n",
        "    ##################################\n",
        "    #for word in tokenized_documents:\n",
        "    #  if word not in vocab.keys():\n",
        "    #    vocab[word] = 1\n",
        "    #  else:\n",
        "    #    vocab[word] += 1\n",
        "    #counts = Counter(tokenized_documents)\n",
        "    #for xs in tokenized_documents:\n",
        "    #  for x in set(xs):\n",
        "    #    vocab[x] += 1\n",
        "    vocab = Counter([lis for sublist in tokenized_documents for lis in sublist])\n",
        "    ##################################\n",
        "      \n",
        "    # 1b. Remove unigrams that has #(unigram) < min_count or #(unigram) > max_count\n",
        "    # to eliminate unigrams occurring very frequently or infrequently. \n",
        "    # This will limit its size to something computationally feasible.\n",
        "    print('%d vocabs before' % len(vocab))\n",
        "    ##################################\n",
        "    for key, cnts in list(vocab.items()):   # list is important here\n",
        "       if cnts < min_count or cnts > max_count:\n",
        "          del vocab[key]\n",
        "    #vocab = Counter(x for x in vocab if (vocab[x] >= min_count and vocab[x] <= max_count))\n",
        "    #vocab = {x : vocab[x] for x in vocab if vocab[x] >= min_count and vocab[x] <= max_count}\n",
        "    #vocab = {x : vocab[x] for x in vocab if vocab[x] < max_count}\n",
        "\n",
        "    ##################################\n",
        "    print('%d vocabs after' % len(vocab))\n",
        "          \n",
        "    # 1c. Build word <-> index lookup for words in vocab.\n",
        "    word2idx, idx2word = {}, {}\n",
        "    ##################################\n",
        "    new_list = list(vocab.keys())\n",
        "    for i in range(len(new_list)):\n",
        "      word2idx[new_list[i]] = i\n",
        "      idx2word[i] = new_list[i]\n",
        "\n",
        "    ##################################\n",
        "    \n",
        "    return vocab, word2idx, idx2word"
      ],
      "execution_count": 0,
      "outputs": []
    },
    {
      "cell_type": "code",
      "metadata": {
        "id": "71G0q8l_51CH",
        "colab_type": "code",
        "outputId": "f672517f-27f6-4081-c452-b71f7b72b416",
        "colab": {
          "base_uri": "https://localhost:8080/",
          "height": 50
        }
      },
      "source": [
        "vocab, word2idx, idx2word = creat_vocabulary(summaries, min_count, max_count)"
      ],
      "execution_count": 0,
      "outputs": [
        {
          "output_type": "stream",
          "text": [
            "214147 vocabs before\n",
            "2750 vocabs after\n"
          ],
          "name": "stdout"
        }
      ]
    },
    {
      "cell_type": "markdown",
      "metadata": {
        "id": "0NwfhahT_tRd",
        "colab_type": "text"
      },
      "source": [
        "# 2. Build Term-Context Matrix"
      ]
    },
    {
      "cell_type": "code",
      "metadata": {
        "id": "HQ-tvqGE1ykI",
        "colab_type": "code",
        "colab": {}
      },
      "source": [
        "###################\n",
        "# Do not modify\n",
        "###################\n",
        "window_size = 3"
      ],
      "execution_count": 0,
      "outputs": []
    },
    {
      "cell_type": "code",
      "metadata": {
        "id": "NQvXB-MZ_VqD",
        "colab_type": "code",
        "colab": {}
      },
      "source": [
        "def build_term_context_matrix(tokenized_documents, vocab, window_size):\n",
        "    \"\"\"\n",
        "    This function returns a `word_pair_count` Counter with each \n",
        "    word_pair_count[(w, c)] = number of times the word `c` occurs in the context of word `w`. (where `w`, `c` belong to the vocab)\n",
        "    To make it efficient, instead of building the sparse term-context matrix, \n",
        "    we will build 3 separate Counters: word_pair_count, w_count, c_count\n",
        "    You may find python's Counter useful here\n",
        "\n",
        "    :param tokenized_documents: a list of tokenized strings\n",
        "    :param vocab: vocabulary Counter\n",
        "    :param window_size: context window size \n",
        "    :return word_pair_count: a Counter where word_pair_count[(w, c)] = count of c's occurences in w's context window, i.e. #(w, c)\n",
        "    :return w_count: a Counter where w_count[w] = the number of times w occured in the documents, i.e. #(w)\n",
        "    :return c_count: a Counter where c_count[c] = the number of times c occured in the documents, i.e. #(c)\n",
        "    \"\"\"\n",
        "    word_pair_count = Counter()  \n",
        "    w_count = Counter()\n",
        "    c_count = Counter()\n",
        "    ##################################\n",
        "    #(word, context word): number of times they appear together \n",
        "    #for each word in a document\n",
        "      #generate all possible tuples between target word and context word around it within window (f in vocab)\n",
        "        #for each tuple add to word_pair_count Counter \n",
        "          #\n",
        "    for document in tokenized_documents: \n",
        "      for i, word in enumerate(document):\n",
        "        if word in vocab.keys():\n",
        "          for j in range(max(i-window_size, 0), min(i+window_size, len(document))):\n",
        "             if document[j] in vocab.keys() and document[j] != word:\n",
        "                word_pair_count[word, document[j]] += 1\n",
        "    \n",
        "    for word_pair in word_pair_count:\n",
        "      w_count[word_pair[0]] += 1\n",
        "      c_count[word_pair[1]] += 1\n",
        "    \n",
        "    print(len(w_count), len(c_count))\n",
        "    ##################################\n",
        "    \n",
        "    return word_pair_count, w_count, c_count"
      ],
      "execution_count": 0,
      "outputs": []
    },
    {
      "cell_type": "code",
      "metadata": {
        "id": "2fNhkXqo7zzd",
        "colab_type": "code",
        "outputId": "964f5cae-0717-4eb8-f024-cc4de668f04d",
        "colab": {
          "base_uri": "https://localhost:8080/",
          "height": 34
        }
      },
      "source": [
        "len(vocab)"
      ],
      "execution_count": 0,
      "outputs": [
        {
          "output_type": "execute_result",
          "data": {
            "text/plain": [
              "2750"
            ]
          },
          "metadata": {
            "tags": []
          },
          "execution_count": 9
        }
      ]
    },
    {
      "cell_type": "code",
      "metadata": {
        "id": "q2Pmo96B_-nu",
        "colab_type": "code",
        "colab": {}
      },
      "source": [
        ""
      ],
      "execution_count": 0,
      "outputs": []
    },
    {
      "cell_type": "code",
      "metadata": {
        "id": "gBxi0t1y2jQ_",
        "colab_type": "code",
        "outputId": "19f09bee-fbec-47eb-ab3f-0f9d8eef742b",
        "colab": {
          "base_uri": "https://localhost:8080/",
          "height": 50
        }
      },
      "source": [
        "word_pair_count, w_count, c_count = build_term_context_matrix(summaries, vocab, window_size)\n",
        "print(\"There are {} word-context pairs\".format(len(word_pair_count)))\n",
        "\n",
        "# The number of w_count and c_count should match your number of vocab\n",
        "assert len(w_count) == len(vocab)\n",
        "assert len(c_count) == len(vocab)"
      ],
      "execution_count": 0,
      "outputs": [
        {
          "output_type": "stream",
          "text": [
            "2750 2750\n",
            "There are 1606462 word-context pairs\n"
          ],
          "name": "stdout"
        }
      ]
    },
    {
      "cell_type": "markdown",
      "metadata": {
        "id": "xeaZoasi3m5r",
        "colab_type": "text"
      },
      "source": [
        "# 3. Build Positive Pointwise Mutual Information (PPMI) Matrix\n",
        "In this part, you will build a PPMI matrix using Scipy's Compressed Sparse Column matrix to save storage space. (https://docs.scipy.org/doc/scipy/reference/generated/scipy.sparse.csc_matrix.html)\n",
        "\n",
        "Sparse matrix is a matrix which contains very few non-zero elements. When a sparse matrix is represented with a 2-dimensional array, we waste a lot of space to represent that matrix. In NLP application, it's quite common to use sparse matrix since the size of vocabulary is usually very large. \n",
        "\n",
        "Below is an example of how to build a sparse matrix where `data`, `row` and `col` satisfy the relationship `M[row[k], col[k]] = data[k]`.\n",
        "\n",
        "```python\n",
        ">>> row = np.array([0, 2, 2, 0, 1, 2])\n",
        ">>> col = np.array([0, 0, 1, 2, 2, 2])\n",
        ">>> data = np.array([1, 2, 3, 4, 5, 6])\n",
        ">>> M = csc_matrix((data, (row, col)))\n",
        ">>> M.toarray()\n",
        "array([[1, 0, 4],\n",
        "       [0, 0, 5],\n",
        "       [2, 3, 6]])\n",
        "```\n",
        "\n",
        "Recall that\n",
        "$$\n",
        "\\begin{gather*}\n",
        "  \\text{PMI}(w, c) = \\log_2 \\frac{P(w, c)}{P(w)P(c)} \\\\\n",
        "  \\text{PPMI}(w, c) = \\max(0, \\text{PMI}(w, c))\n",
        "\\end{gather*}\n",
        "$$\n",
        "You should use `log2` function from the math package that is alreadly imported for you."
      ]
    },
    {
      "cell_type": "code",
      "metadata": {
        "id": "FIYharDm38G1",
        "colab_type": "code",
        "colab": {}
      },
      "source": [
        "def build_PPMI_matrix(word_pair_count, w_count, c_count, word2idx):\n",
        "    \"\"\"\n",
        "    This function returns a PPMI matrix represented by a csc sparse matrix.\n",
        "\n",
        "    :params word_pair_count: a Counter where word_pair_count[(w, c)] = count of c's occurences in w's context window\n",
        "    :params w_count: a Counter where w_count[w] = the number of times w occured in the documents\n",
        "    :params c_count: a Counter where c_count[c] = the number of times c occured in the documents\n",
        "    :params word2idx: a word -> index lookup Dictionary for words in vocab\n",
        "    :return PPMI: PPMI csc sparse matrix\n",
        "    \"\"\"\n",
        "    data, rows, cols = [], [], []\n",
        "    total_occurences = sum(word_pair_count.values())\n",
        "    for (w, c), n in word_pair_count.items():\n",
        "      ##################################\n",
        "      rows.append(word2idx[w])\n",
        "      cols.append(word2idx[c])\n",
        "      pwc = n / total_occurences\n",
        "      nw = w_count[w]\n",
        "      pw = nw / total_occurences\n",
        "      nc = c_count[c]\n",
        "      pc = nc / total_occurences\n",
        "\n",
        "      pmi = np.log2(pwc/(pw*pc))   \n",
        "      ppmi = max(pmi, 0)\n",
        "\n",
        "      data.append(ppmi)\n",
        "      ##################################\n",
        "\n",
        "    PPMI = csc_matrix((data, (rows, cols)))\n",
        "    return PPMI"
      ],
      "execution_count": 0,
      "outputs": []
    },
    {
      "cell_type": "code",
      "metadata": {
        "id": "D4x3LpVWseoS",
        "colab_type": "code",
        "colab": {}
      },
      "source": [
        ""
      ],
      "execution_count": 0,
      "outputs": []
    },
    {
      "cell_type": "code",
      "metadata": {
        "id": "ADuP5FPV8-XQ",
        "colab_type": "code",
        "colab": {}
      },
      "source": [
        "PPMI = build_PPMI_matrix(word_pair_count, w_count, c_count, word2idx)\n",
        "\n",
        "# The shape of PPMI matrix should match your number of vocab\n",
        "assert PPMI.shape == (len(vocab), len(vocab))"
      ],
      "execution_count": 0,
      "outputs": []
    },
    {
      "cell_type": "markdown",
      "metadata": {
        "id": "dLUHCDzN9PGF",
        "colab_type": "text"
      },
      "source": [
        "# 4. Truncated SVD\n",
        "In this part, we will obtain a dense low-dimensional vectors via truncated (rank-k) SVD. You should use `svds` function from Sicpy that is already imported for you to obtain the SVD factorization.\n",
        "(https://docs.scipy.org/doc/scipy/reference/generated/scipy.sparse.linalg.svds.html)\n"
      ]
    },
    {
      "cell_type": "code",
      "metadata": {
        "id": "ZEh5rynC9-UR",
        "colab_type": "code",
        "colab": {}
      },
      "source": [
        "###################\n",
        "# Do not modify\n",
        "###################\n",
        "rank = 20"
      ],
      "execution_count": 0,
      "outputs": []
    },
    {
      "cell_type": "code",
      "metadata": {
        "id": "BLtCNz5Z9U8c",
        "colab_type": "code",
        "colab": {}
      },
      "source": [
        "def get_embeddings(PPMI, rank):\n",
        "    \"\"\"\n",
        "    Reutrns the left singular vectors as word embeddings via truncated SVD\n",
        "\n",
        "    :params PPMI: PPMI csc sparse matrix\n",
        "    :params rank: number of singular values and vectors to compute\n",
        "    :return u: left sigular vectors from sprase SVD\n",
        "    :return s: the singular values from sparse SVD\n",
        "    \"\"\"\n",
        "    ##################################\n",
        "    u, s, v = svds(PPMI, rank) \n",
        "    ##################################\n",
        "\n",
        "    return u, s"
      ],
      "execution_count": 0,
      "outputs": []
    },
    {
      "cell_type": "code",
      "metadata": {
        "id": "lmjoP5KF91O0",
        "colab_type": "code",
        "colab": {}
      },
      "source": [
        "embeddings, _ = get_embeddings(PPMI, rank)\n",
        "embeddings /= np.linalg.norm(embeddings, axis=1, keepdims=True)  # Normalize embeddings matrix\n",
        "\n",
        "# The shape of the embeddings matrix should be (# vocab, rank)\n",
        "assert embeddings.shape == (len(vocab), rank)\n",
        "\n",
        "# Make sure embeddings is normalized\n",
        "assert True == np.isclose(np.linalg.norm(embeddings[0]), 1)"
      ],
      "execution_count": 0,
      "outputs": []
    },
    {
      "cell_type": "markdown",
      "metadata": {
        "id": "rQUUfS0N-Lyc",
        "colab_type": "text"
      },
      "source": [
        "# 5. Evaluate Word Embeddings via Cosine Similarity\n",
        "\n",
        "Using cosine similarity as a measure of distance [§6.4 Jurafsky & Martin](https://web.stanford.edu/~jurafsky/slp3/6.pdf), we will now find the closest words to a certain word. We define cosine similarity as, $$cosine(\\overrightarrow{v},\\overrightarrow{w}) = \\frac{\\overrightarrow{v} \\cdot \\overrightarrow{w}}{\\vert v \\vert \\vert w \\vert}$$\n",
        "\n",
        "Please complete the function below that calculates the 'K' closest words from the vocabulary. You may not use any additional libraries."
      ]
    },
    {
      "cell_type": "code",
      "metadata": {
        "id": "D9Zf_us2AFkx",
        "colab_type": "code",
        "colab": {}
      },
      "source": [
        "###################\n",
        "# Do not modify\n",
        "###################\n",
        "num_neighbors = 5"
      ],
      "execution_count": 0,
      "outputs": []
    },
    {
      "cell_type": "code",
      "metadata": {
        "id": "f_l55j98-NvY",
        "colab_type": "code",
        "colab": {}
      },
      "source": [
        "def cosine_distances(matrix, vector):\n",
        "    \"\"\"\n",
        "    The function takes in a matrix and a vector (both normalized) \n",
        "    and returns the cosine distances for this vector against all others.\n",
        "    The pretrained embeddings are normalized.\n",
        "\n",
        "    :params matrix: word embeddings matrix\n",
        "    :params vector: word vector for a particular word\n",
        "    :return distances: a cosine distances vector\n",
        "    \"\"\"\n",
        "    ##################################\n",
        "    #distances = []\n",
        "    ##sqrt_v = np.sqrt(sum(map(lambda i : i * i, vector)))\n",
        "    #row_sum = 0\n",
        "    #sqrt_m = 0\n",
        "    #for row in range(0,len(matrix)):\n",
        "    #  row_sum = 0 \n",
        "    #  sqrt_m = 0\n",
        "    #  for col in range(0, len(matrix[0])):\n",
        "    #    row_sum += vector[col]*col\n",
        "    #    sqrt_m += col**2\n",
        "   # \n",
        "   # cos_sim = row_sum/(np.sqrt(sqrt_m)*sqrt_v)\n",
        "   # distances.append(cos_sim)\n",
        "    #sqrt_v = np.sqrt(sum(map(lambda i : i * i, vector)))\n",
        "    #remove distances that equals 1\n",
        "    distances = []\n",
        "\n",
        "    for row in matrix:\n",
        "      #if all(vector == row):\n",
        "      #  continue\n",
        "      dot_prod = np.dot(row, vector)\n",
        "      #sqrt_m = np.sqrt(sum(map(lambda i : i * i, row)))\n",
        "      distances += [dot_prod]\n",
        "      #distances.append(dot_prod/(np.sqrt(np.dot(vector, vector))*np.sqrt(np.dot(row, row))))\n",
        "    ##################################\n",
        "    \n",
        "    return  distances\n",
        "\n",
        "\n",
        "def nearest_neighbors(embeddings, word, k, word2idx, idx2word):\n",
        "    \"\"\"\n",
        "    For each query word, this function returns the k closest words from the vocabulary.\n",
        "\n",
        "    :params embeddings: word embedding matrix\n",
        "    :params word: query word\n",
        "    :params k: number of cloest words to return\n",
        "    :params word2idx: a word -> index lookup dictionary\n",
        "    :params idx2word: a index -> word lookup dictionary\n",
        "    :return nearest_neighbors: a list of cloest words\n",
        "    \"\"\"\n",
        "    vector = embeddings[word2idx[word]]\n",
        "    distances = cosine_distances(embeddings, vector)\n",
        "    nearest_neighbors = []\n",
        "    ##################################\n",
        "    distances = [-x for x in distances]\n",
        "    sidxs = np.argsort(distances)  \n",
        "    nearest_neighbors = [(idx2word[sidx]) for sidx in sidxs[1:k+1]]\n",
        "\n",
        "    #nearest_neighbors = [(idx2word[sidx]) for sidx in sidxs[-k-1:]]\n",
        "    print(distances[1:k+1])\n",
        "    ##################################\n",
        "    \n",
        "    return nearest_neighbors"
      ],
      "execution_count": 0,
      "outputs": []
    },
    {
      "cell_type": "code",
      "metadata": {
        "id": "FJjPuVPe_oGq",
        "colab_type": "code",
        "outputId": "6c162327-d59e-4330-f304-6d309e4282fc",
        "colab": {
          "base_uri": "https://localhost:8080/",
          "height": 185
        }
      },
      "source": [
        "query_words = [\"doctor\", \"zombie\", \"robot\", \"eat\", \"bus\"]\n",
        "for word in query_words:\n",
        "    print(word, nearest_neighbors(embeddings, word, num_neighbors, word2idx, idx2word))"
      ],
      "execution_count": 0,
      "outputs": [
        {
          "output_type": "stream",
          "text": [
            "[-0.09530300920532074, 0.14579087330724647, -0.1791963917384067, 0.17279026182136192, 0.15324360592958883]\n",
            "doctor ['priest', 'Christine', 'Elizabeth', 'Anna', 'teacher']\n",
            "[-0.11659300051966515, 0.04014627682205825, 0.1743977823611117, -0.04639244722835259, 0.013102248835768937]\n",
            "zombie ['infected', 'demon', 'possessed', 'zombies', 'creatures']\n",
            "[-0.1010706002095609, 0.009389637154399093, 0.1524761674263763, 0.1463347976236481, 0.2544234625962456]\n",
            "robot ['alien', 'creature', 'demon', 'monster', 'weapon']\n",
            "[-0.09820479843633131, -0.21388530195443306, 0.13548540876308418, -0.46292322911493017, 0.0138998977295548]\n",
            "eat ['throw', 'wear', 'sleep', 'walk', 'look']\n",
            "[-0.3851950740067549, 0.2243232679041557, 0.04234978684747237, 0.04092279703186516, -0.09545347190707877]\n",
            "bus ['road', 'truck', 'river', 'bridge', 'van']\n"
          ],
          "name": "stdout"
        }
      ]
    },
    {
      "cell_type": "markdown",
      "metadata": {
        "id": "KfxaNuBjAiiY",
        "colab_type": "text"
      },
      "source": [
        "# 6. Evaluate Word Embeddings via Analogous Tasks\n",
        "\n",
        "The embedding space is known to capture the semantic context of words. An example of it is $\\overrightarrow{woman} - \\overrightarrow{man} \\simeq \\overrightarrow{queen} - \\overrightarrow{king}$. Use the `cosine_distances()` function you wrote above to find such relations."
      ]
    },
    {
      "cell_type": "code",
      "metadata": {
        "id": "YZQCzP-FCRb5",
        "colab_type": "code",
        "colab": {}
      },
      "source": [
        "def relation(embeddings, query_words, word2idx, idx2word):\n",
        "    \"\"\"\n",
        "    Takes in 3 words and returns the closest word (in terms of cosine similarity)\n",
        "    to the normalized algebraic addition of the three vectors.\n",
        "    The parameters follow this order : word_vec1 - word_vec2 ~ closest - word_vec3\n",
        "\n",
        "    :params embeddings: word embedding matrix\n",
        "    :params query_words: a list of query words in the following order: [word1, word2, word3]\n",
        "    :params word2idx: a word -> index lookup dictionary\n",
        "    :params idx2word: a index -> word lookup dictionary\n",
        "    :return closet_word: the closest word for the relation\n",
        "    \"\"\"\n",
        "    word1, word2, word3 = query_words\n",
        "    if all(word in vocab for word in query_words):\n",
        "      ##################################\n",
        "      word1vec = embeddings[word2idx[word1]]\n",
        "      word2vec = embeddings[word2idx[word2]]\n",
        "      word3vec = embeddings[word2idx[word3]]\n",
        "      word_summation = word1vec - word2vec + word3vec\n",
        "      word_summation /= np.linalg.norm(word_summation, keepdims=True)\n",
        "      distances = cosine_distances(embeddings, word_summation)\n",
        "      distances = [-x for x in distances]\n",
        "      sidxs = np.argsort(distances)\n",
        "      closet_word = (idx2word.get(sidxs[1])) \n",
        "\n",
        "\n",
        "\n",
        "      \n",
        "      ##################################\n",
        "      \n",
        "      return closet_word\n",
        "    else:\n",
        "      missing = [w for w in query_words if w not in vocab]\n",
        "      raise Exception(\"missing {} from vocabulary\".format(\", \".join(missing)))"
      ],
      "execution_count": 0,
      "outputs": []
    },
    {
      "cell_type": "code",
      "metadata": {
        "id": "lF3mtHMjHue-",
        "colab_type": "code",
        "outputId": "bdf64990-2084-4ea2-9aa7-c9791201fd29",
        "colab": {
          "base_uri": "https://localhost:8080/",
          "height": 101
        }
      },
      "source": [
        "queries = [[\"doctor\", \"nurse\", \"king\"], [\"robot\", \"weapon\", \"bus\"], [\"sing\", \"song\", \"justice\"], [\"elderly\", \"kids\", \"teenager\"], [\"soldier\", \"wound\", \"telephone\"]]\n",
        "for query in queries:\n",
        "  closet_word = relation(embeddings, query, word2idx, idx2word)\n",
        "  print(\"{} - {} ~= {} - {}\".format(query[0], query[1], closet_word, query[2]))"
      ],
      "execution_count": 0,
      "outputs": [
        {
          "output_type": "stream",
          "text": [
            "doctor - nurse ~= Emperor - king\n",
            "robot - weapon ~= river - bus\n",
            "sing - song ~= protect - justice\n",
            "elderly - kids ~= journalist - teenager\n",
            "soldier - wound ~= retired - telephone\n"
          ],
          "name": "stdout"
        }
      ]
    },
    {
      "cell_type": "code",
      "metadata": {
        "id": "8F3vKy9SrQSC",
        "colab_type": "code",
        "colab": {}
      },
      "source": [
        ""
      ],
      "execution_count": 0,
      "outputs": []
    }
  ]
}